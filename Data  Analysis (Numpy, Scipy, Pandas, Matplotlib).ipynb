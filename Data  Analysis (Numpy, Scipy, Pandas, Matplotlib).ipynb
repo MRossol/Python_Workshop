{
 "cells": [
  {
   "cell_type": "markdown",
   "metadata": {},
   "source": [
    "# NumPy/SciPy\n",
    "\n",
    "[Numerical Python](http://www.numpy.org/) (`numpy`), [Scientific Python](http://www.scipy.org/) (`scipy`) are the two most popular packages for numerical manipulation and data analysis.\n",
    "\n",
    "Along the way we will also introduce matplotlib, the most popular plotting package in python.  \n",
    "It will be very familiar to matlab users (if the name didn't already give that away).\n",
    "\n",
    "Many of these examples were taken from Python sp-16 put together by UIUC CS department  \n",
    "https://github.com/uiuc-cse/python-sp16"
   ]
  },
  {
   "cell_type": "code",
   "execution_count": null,
   "metadata": {
    "collapsed": true
   },
   "outputs": [],
   "source": [
    "from __future__ import division\n",
    "\n",
    "import numpy as np"
   ]
  },
  {
   "cell_type": "markdown",
   "metadata": {},
   "source": [
    "## Numpy uses Arrays to hold data\n",
    "Arrays can contain different types of python elements (or multiple types).  \n",
    "They also can have multiple shapes (dimensions)"
   ]
  },
  {
   "cell_type": "code",
   "execution_count": null,
   "metadata": {
    "collapsed": false
   },
   "outputs": [],
   "source": [
    "a=np.arange(5); print(a)\n",
    "print(a.dtype)\n",
    "print(a.shape)"
   ]
  },
  {
   "cell_type": "code",
   "execution_count": null,
   "metadata": {
    "collapsed": false
   },
   "outputs": [],
   "source": [
    "m = np.array([np.arange(2), np.arange(2)]);print(m)\n",
    "print(m.shape)"
   ]
  },
  {
   "cell_type": "markdown",
   "metadata": {},
   "source": [
    "Arrays can be sliced like lists"
   ]
  },
  {
   "cell_type": "code",
   "execution_count": null,
   "metadata": {
    "collapsed": true
   },
   "outputs": [],
   "source": [
    "a = np.arange(9)\n",
    "first_three = a[:3]\n",
    "three_to_end = a[3:]\n",
    "one_to_four = a[1:5]\n",
    "last_three = a[-3:]\n",
    "without_first_last = a[1:-1]\n",
    "every_other = a[::2]\n",
    "reverse_list = a[::-1]"
   ]
  },
  {
   "cell_type": "markdown",
   "metadata": {},
   "source": [
    "But you can also slice multi-dimensional arrays intuitively!"
   ]
  },
  {
   "cell_type": "code",
   "execution_count": null,
   "metadata": {
    "collapsed": false
   },
   "outputs": [],
   "source": [
    "a = np.array([[1,2,3],[4,5,6]])\n",
    "row = a[0]\n",
    "column = a[:, 0]\n",
    "row2_col2 = a[1,1]\n",
    "row23_col23 = a[1:3, 1:3]"
   ]
  },
  {
   "cell_type": "markdown",
   "metadata": {},
   "source": [
    "Arrays can be reshaped easily"
   ]
  },
  {
   "cell_type": "code",
   "execution_count": null,
   "metadata": {
    "collapsed": false
   },
   "outputs": [],
   "source": [
    "b = np.arange(24)\n",
    "print(b)\n",
    "b=b.reshape(2,3,4)#doesn't change b\n",
    "print(b)"
   ]
  },
  {
   "cell_type": "code",
   "execution_count": null,
   "metadata": {
    "collapsed": false
   },
   "outputs": [],
   "source": [
    "b.shape=(6,4)#changes b\n",
    "print(b)\n",
    "b = b.T #b.transpose()\n",
    "print(b)"
   ]
  },
  {
   "cell_type": "code",
   "execution_count": null,
   "metadata": {
    "collapsed": false
   },
   "outputs": [],
   "source": [
    "b = np.arange(24)\n",
    "b.shape=(2,3,4);b"
   ]
  },
  {
   "cell_type": "markdown",
   "metadata": {},
   "source": [
    "*What do the following slicing operations give you?  \n",
    "Can you guess before you try them based on what you know about slicing lists and the shape of the array?*"
   ]
  },
  {
   "cell_type": "code",
   "execution_count": null,
   "metadata": {
    "collapsed": false
   },
   "outputs": [],
   "source": [
    "b[0,0,0]\n",
    "b[:,0,0]\n",
    "b[0]\n",
    "b[0,1]\n",
    "b[0,1,::2]\n",
    "b[:,:,1]\n",
    "b[:,1]\n",
    "b[0,:,1]\n",
    "b[0,::-1,-1]\n",
    "b[::-1]"
   ]
  },
  {
   "cell_type": "markdown",
   "metadata": {},
   "source": [
    "You can also create special arrays very easily"
   ]
  },
  {
   "cell_type": "code",
   "execution_count": null,
   "metadata": {
    "collapsed": false
   },
   "outputs": [],
   "source": [
    "b = np.ones([3,2])\n",
    "print(b)\n",
    "\n",
    "c = np.zeros((4,5))\n",
    "print(c)\n",
    "\n",
    "I = np.eye(3)\n",
    "print(I)"
   ]
  },
  {
   "cell_type": "markdown",
   "metadata": {},
   "source": [
    "Unlike lists, arrays behave \"properly\" - that is, it's a little harder to run into a mathematical operation that doesn't just work as you may expect."
   ]
  },
  {
   "cell_type": "code",
   "execution_count": null,
   "metadata": {
    "collapsed": false
   },
   "outputs": [],
   "source": [
    "a = np.array([[1,2],[3,4]])\n",
    "\n",
    "a + 1 #scalar addition"
   ]
  },
  {
   "cell_type": "code",
   "execution_count": null,
   "metadata": {
    "collapsed": false
   },
   "outputs": [],
   "source": [
    "b = np.array([[1, 1], [2, 2]])\n",
    "\n",
    "print(b + a) # elementwise addition\n",
    "print(b * a) # element wise multiplication"
   ]
  },
  {
   "cell_type": "code",
   "execution_count": null,
   "metadata": {
    "collapsed": false
   },
   "outputs": [],
   "source": [
    "# matrix multiplication\n",
    "b.dot(a)"
   ]
  },
  {
   "cell_type": "markdown",
   "metadata": {},
   "source": [
    "Naturally, additions or multiplications for arrays of different shapes do not work."
   ]
  },
  {
   "cell_type": "code",
   "execution_count": null,
   "metadata": {
    "collapsed": false
   },
   "outputs": [],
   "source": [
    "b = np.ones([3,2])\n",
    "\n",
    "b + a"
   ]
  },
  {
   "cell_type": "code",
   "execution_count": null,
   "metadata": {
    "collapsed": false
   },
   "outputs": [],
   "source": [
    "a.dot(b)"
   ]
  },
  {
   "cell_type": "markdown",
   "metadata": {},
   "source": [
    "### arange and linspace\n",
    "[`arange`](http://docs.scipy.org/doc/numpy/reference/generated/numpy.arange.html) is the floating-point counterpart to `range`.  `range` only returns integers and fails on floating-point arguments.  `arange` returns an array of evenly-spaced floating-point values.\n",
    "\n",
    "**Python 2 v. 3**:  In Python 2, `range` generates a `list` of values.  In Python 3, `range` returns an iterable instead (equivalent to Python 2's `xrange`).  If you're not sure of the difference yet, the behavior should still be as you generally expect."
   ]
  },
  {
   "cell_type": "code",
   "execution_count": null,
   "metadata": {
    "collapsed": false
   },
   "outputs": [],
   "source": [
    "print('range with integers: ', [i for i in range(10)])\n",
    "print('range with integers: ', [i for i in range(0,10,2)])\n",
    "print('range with floats: ',   [i for i in range(0,10,0.5)])"
   ]
  },
  {
   "cell_type": "code",
   "execution_count": null,
   "metadata": {
    "collapsed": false
   },
   "outputs": [],
   "source": [
    "print('arange with integers: ', np.arange(10))\n",
    "print('arange with integers: ', np.arange(0,10,2))\n",
    "print('arange with floats: ',   np.arange(0,10,0.5))"
   ]
  },
  {
   "cell_type": "markdown",
   "metadata": {},
   "source": [
    "Another option you have to create ranges is [`linspace`](http://docs.scipy.org/doc/numpy/reference/generated/numpy.linspace.html), which is familiar to MATLAB users."
   ]
  },
  {
   "cell_type": "code",
   "execution_count": null,
   "metadata": {
    "collapsed": false
   },
   "outputs": [],
   "source": [
    "# Create an array with 11 equal spaces from 0 to 1 inclusive.\n",
    "np.linspace(0, 1, 11)"
   ]
  },
  {
   "cell_type": "markdown",
   "metadata": {},
   "source": [
    "*Try the following:*  \n",
    "- Create a $5\\times5$ identity matrix."
   ]
  },
  {
   "cell_type": "code",
   "execution_count": null,
   "metadata": {
    "collapsed": true
   },
   "outputs": [],
   "source": []
  },
  {
   "cell_type": "markdown",
   "metadata": {},
   "source": [
    "- Create a range from -1.7 to 3.4 with 100 intervals using `linspace`.  Then do it using `arange`."
   ]
  },
  {
   "cell_type": "code",
   "execution_count": null,
   "metadata": {
    "collapsed": true
   },
   "outputs": [],
   "source": []
  },
  {
   "cell_type": "markdown",
   "metadata": {},
   "source": [
    "- Create an array `x` with the numbers $0, 0.5, 1.0$.\n",
    "- Create an array `y` with the numbers $-5.3, -1.8, 1.5$.\n",
    "- Place `x` and `y` into an array as two subsequent rows of data.  (We haven't talked about this yet—try a few things to see what works.)"
   ]
  },
  {
   "cell_type": "code",
   "execution_count": null,
   "metadata": {
    "collapsed": true
   },
   "outputs": [],
   "source": []
  },
  {
   "cell_type": "markdown",
   "metadata": {},
   "source": [
    "### Copies\n",
    "As with list, be careful when copying arrays"
   ]
  },
  {
   "cell_type": "code",
   "execution_count": null,
   "metadata": {
    "collapsed": false
   },
   "outputs": [],
   "source": [
    "A = np.linspace(0.0, 9.0, 10)\n",
    "B = A\n",
    "\n",
    "print(\"A =\", A)\n",
    "B[0] = -1 #changes element in A since B is simply another name for A\n",
    "print(\"A =\", A)"
   ]
  },
  {
   "cell_type": "markdown",
   "metadata": {},
   "source": [
    "Unlike in lists [:] does not copy a list"
   ]
  },
  {
   "cell_type": "code",
   "execution_count": null,
   "metadata": {
    "collapsed": false
   },
   "outputs": [],
   "source": [
    "A = np.linspace(0.0, 9.0, 10)\n",
    "B = A[:]\n",
    "print(\"A =\", A)\n",
    "B[0] = -1\n",
    "print(\"A =\", A)"
   ]
  },
  {
   "cell_type": "markdown",
   "metadata": {},
   "source": [
    "Instead a copy must be made"
   ]
  },
  {
   "cell_type": "code",
   "execution_count": null,
   "metadata": {
    "collapsed": false
   },
   "outputs": [],
   "source": [
    "A = np.linspace(0.0, 9.0, 10)\n",
    "B = A.copy()\n",
    "print(\"A =\", A)\n",
    "B[0] = -1\n",
    "print(\"A =\", A)\n",
    "print(\"B =\", B)"
   ]
  },
  {
   "cell_type": "markdown",
   "metadata": {},
   "source": [
    "### Sorting\n",
    "\n",
    "Sorting by a nested element in a list of lists is rather complicated, requiring the definition of a sorting function for `sorted`, for instance.  NumPy provides a trivial solution:"
   ]
  },
  {
   "cell_type": "code",
   "execution_count": null,
   "metadata": {
    "collapsed": false
   },
   "outputs": [],
   "source": [
    "A = np.array([[1.5,0.9,4.6,0.1],[0.3,0.8,1.3, 2.7],[2.5,2.5,0.6,3.2]])\n",
    "\n",
    "print('A = \\n', A, '\\n')\n",
    "\n",
    "# np.sort sorts everything in its column or row.\n",
    "print('Sorted along first index:\\n', np.sort(A, 0), '\\n')\n",
    "print('Sorted along second index:\\n', np.sort(A, 1), '\\n')"
   ]
  },
  {
   "cell_type": "markdown",
   "metadata": {},
   "source": [
    "Numpy has built in methods to interegate arrays"
   ]
  },
  {
   "cell_type": "code",
   "execution_count": null,
   "metadata": {
    "collapsed": false
   },
   "outputs": [],
   "source": [
    "a = np.arange(9)\n",
    "print(\"mean = {}\".format(np.mean(a)))\n",
    "print(\"Standard Deviation = {}\".format(np.std(a)))\n",
    "print(\"median = {}\".format(np.median(a)))"
   ]
  },
  {
   "cell_type": "markdown",
   "metadata": {},
   "source": [
    "*What is the mean and standard deviation of the matrix A from above?  \n",
    "What is the mean and standard deviation of each row? And each column?*"
   ]
  },
  {
   "cell_type": "code",
   "execution_count": null,
   "metadata": {
    "collapsed": true
   },
   "outputs": [],
   "source": []
  },
  {
   "cell_type": "markdown",
   "metadata": {},
   "source": [
    "## Importing Data"
   ]
  },
  {
   "cell_type": "markdown",
   "metadata": {},
   "source": [
    "There are several packages that make working with files very easy.  \n",
    "The first is \"os\" which lets you:\n",
    "- listdir(directory) : list all files in a directory\n",
    "- rename(original_name, new_name) : rename files\n",
    "- remove(path) : delete files\n",
    "- path.join(directory, file_name) : join file_name and directory\n",
    "\n",
    "Try to search the \"data\" folder for all of the \".tif\" files. \n",
    "Can you figure out how to pad the numbers and rename the files?"
   ]
  },
  {
   "cell_type": "code",
   "execution_count": null,
   "metadata": {
    "collapsed": true
   },
   "outputs": [],
   "source": [
    "import os\n",
    "\n"
   ]
  },
  {
   "cell_type": "markdown",
   "metadata": {},
   "source": [
    "Numpy can import data from delimited files (.txt, .dat, .csv)\n",
    "NOTE: loadtxt does not play well with headers,\n",
    "use the skiprow arguement to ignore the neccesary rows at the beginning of files"
   ]
  },
  {
   "cell_type": "code",
   "execution_count": null,
   "metadata": {
    "collapsed": false
   },
   "outputs": [],
   "source": [
    "dat_data = np.loadtxt(\"Data/Rail_frame.dat\", skiprows=3) #tab delimited (default) \n",
    "csv_data = np.loadtxt(\"Data/Rail_frame.csv\", skiprows=3, delimiter=',') #comma delimited"
   ]
  },
  {
   "cell_type": "markdown",
   "metadata": {},
   "source": [
    "You can also import select columns and/or immediately seperate columns and assign them each to a variable"
   ]
  },
  {
   "cell_type": "code",
   "execution_count": null,
   "metadata": {
    "collapsed": false
   },
   "outputs": [],
   "source": [
    "disp, load = np.loadtxt(\"Data/Rail_frame.dat\", skiprows=3, usecols=(1,2), unpack=True)"
   ]
  },
  {
   "cell_type": "markdown",
   "metadata": {},
   "source": [
    "If you are using .csv files, a more powerful option is to use the Pandas package:  \n",
    "Pandas creates a 2 Dimensional data structure called a `DataFrame`. The `DataFrame` object is similar to a table or a spreadsheet in Excel, i.e. a 2D Matrix-like object. "
   ]
  },
  {
   "cell_type": "code",
   "execution_count": null,
   "metadata": {
    "collapsed": false
   },
   "outputs": [],
   "source": [
    "import pandas as pd\n",
    "data_frame = pd.read_csv('Data/Rail_frame.csv', skiprows=2) #Pandas will read in the column headers\n",
    "data_frame[:10]"
   ]
  },
  {
   "cell_type": "markdown",
   "metadata": {},
   "source": [
    "Data Frames can be thought of as a combination of numpy arrays and dictionaries/look up tables:  \n",
    "You can manipulate them like arrays, but also call variables like dictionaries"
   ]
  },
  {
   "cell_type": "code",
   "execution_count": null,
   "metadata": {
    "collapsed": false
   },
   "outputs": [],
   "source": [
    "data_frame['Load (N)'][0:10]"
   ]
  },
  {
   "cell_type": "markdown",
   "metadata": {},
   "source": [
    "Like dictionaries you can add columns w/ labels very easily"
   ]
  },
  {
   "cell_type": "code",
   "execution_count": null,
   "metadata": {
    "collapsed": false
   },
   "outputs": [],
   "source": [
    "area = (0.3 *3)\n",
    "lo = 25000 #um\n",
    "\n",
    "data_frame['Strain (%)'] = data_frame['Displacement (um)']/lo * 100"
   ]
  },
  {
   "cell_type": "markdown",
   "metadata": {},
   "source": [
    "Add a new column to 'data_frame' containing the Stress in MPa"
   ]
  },
  {
   "cell_type": "code",
   "execution_count": null,
   "metadata": {
    "collapsed": true
   },
   "outputs": [],
   "source": []
  },
  {
   "cell_type": "markdown",
   "metadata": {},
   "source": [
    "You can import image files as a data arrays using scipy.misc "
   ]
  },
  {
   "cell_type": "code",
   "execution_count": null,
   "metadata": {
    "collapsed": false
   },
   "outputs": [],
   "source": [
    "from scipy import misc\n",
    "import os\n",
    "\n",
    "path = 'Data/Rail_Frame_Imgs'\n",
    "imgs = [os.path.join(path, file) for file in os.listdir(path)\n",
    "       if file.endswith('.tif')]\n",
    "\n",
    "img_data = misc.imread(imgs[0])\n",
    "\n",
    "print('image shape = ', img_data.shape)\n",
    "img_data[:2, :2]"
   ]
  },
  {
   "cell_type": "markdown",
   "metadata": {},
   "source": [
    "## Plotting Data\n",
    "The most popular data plotting package is [MatPlotLib](http://www.matplotlib.org/) (`matplotlib`) and is based off of MATLAB's plotting package."
   ]
  },
  {
   "cell_type": "code",
   "execution_count": null,
   "metadata": {
    "collapsed": true
   },
   "outputs": [],
   "source": [
    "import matplotlib as mpl\n",
    "from matplotlib import pyplot as plt\n",
    "\n",
    "#IPython magic command for inline plotting\n",
    "%matplotlib inline"
   ]
  },
  {
   "cell_type": "markdown",
   "metadata": {},
   "source": [
    "Some basic plotting"
   ]
  },
  {
   "cell_type": "code",
   "execution_count": null,
   "metadata": {
    "collapsed": false
   },
   "outputs": [],
   "source": [
    "years = [1950, 1960, 1970, 1980, 1990, 2000, 2010]\n",
    "gdp = [300.2, 543.3, 1075.9, 2862.5, 5979.6, 10289.7, 14958.3]\n",
    "\n",
    "plt.plot( years, gdp, color='green', marker='o', linestyle='solid')\n",
    "plt.title('Nominal GDP')\n",
    "plt.ylabel('Billions of $')\n",
    "plt.xlabel('Year')\n",
    "plt.show()"
   ]
  },
  {
   "cell_type": "markdown",
   "metadata": {},
   "source": [
    "Can easily add in error bars"
   ]
  },
  {
   "cell_type": "code",
   "execution_count": null,
   "metadata": {
    "collapsed": false
   },
   "outputs": [],
   "source": [
    "gdp_error = [p/10 for p in gdp]\n",
    "\n",
    "plt.errorbar( years, gdp, yerr=gdp_error, color='green', marker='o', linestyle='solid')\n",
    "plt.title('Nominal GDP')\n",
    "plt.ylabel('Billions of $')\n",
    "plt.xlabel('Year')\n",
    "plt.yticks(np.arange(0, 20000, 4000))#custom y ticks\n",
    "plt.xlim(1945, 2015)#custom x range\n",
    "plt.show()"
   ]
  },
  {
   "cell_type": "markdown",
   "metadata": {},
   "source": [
    "Plot up stress vs strain for the Rail Frame"
   ]
  },
  {
   "cell_type": "code",
   "execution_count": null,
   "metadata": {
    "collapsed": true
   },
   "outputs": [],
   "source": []
  },
  {
   "cell_type": "markdown",
   "metadata": {},
   "source": [
    "Can easily plot images (notice the coordinate system)"
   ]
  },
  {
   "cell_type": "code",
   "execution_count": null,
   "metadata": {
    "collapsed": false
   },
   "outputs": [],
   "source": [
    "plt.imshow(img_data)\n",
    "plt.show()"
   ]
  },
  {
   "cell_type": "markdown",
   "metadata": {},
   "source": [
    "We can force the axis to be \"normal\""
   ]
  },
  {
   "cell_type": "code",
   "execution_count": null,
   "metadata": {
    "collapsed": false
   },
   "outputs": [],
   "source": [
    "plt.imshow(img_data, origin='lower')\n",
    "plt.show()"
   ]
  },
  {
   "cell_type": "markdown",
   "metadata": {},
   "source": [
    "And remove the axis to make it pretty"
   ]
  },
  {
   "cell_type": "code",
   "execution_count": null,
   "metadata": {
    "collapsed": false
   },
   "outputs": [],
   "source": [
    "plt.imshow(img_data, origin='lower')\n",
    "plt.axis('off')\n",
    "plt.show()"
   ]
  },
  {
   "cell_type": "markdown",
   "metadata": {},
   "source": [
    "Plots are very customizable"
   ]
  },
  {
   "cell_type": "code",
   "execution_count": null,
   "metadata": {
    "collapsed": false
   },
   "outputs": [],
   "source": [
    "strain_1, stress_1 = np.loadtxt('Data/1p_SS.dat', unpack=True)\n",
    "strain_p8, stress_p8 = np.loadtxt('Data/0p8_SS.dat', unpack=True)\n",
    "\n",
    "fig, ax = plt.subplots(figsize = (8,6), dpi=300)#customize figure aspects\n",
    "ax.plot(strain_1, stress_1, color='b', linestyle='-')#first line\n",
    "ax.plot(strain_p8, stress_p8, color='g', linestyle='', marker='.')#second line\n",
    "\n",
    "ax.tick_params(axis='both', labelsize=16, width=1, length=6)#custom ticks\n",
    "ax.set_xlabel('Strain (%)', fontsize=18)#custom labels\n",
    "ax.set_ylabel('Stress (MPa)', fontsize=18)\n",
    "ax.set_xlim(0, 1.05)#custom range\n",
    "\n",
    "plt.legend(('1% Applied Strain', '0.8% Applied Strain'), prop={'size': 12}, loc=0)#add a legend\n",
    "\n",
    "fig.tight_layout()\n",
    "plt.savefig('Stress_Strain.png', dpi=300, transparent=True, bbox_inches='tight')#save figure\n",
    "plt.show()"
   ]
  },
  {
   "cell_type": "markdown",
   "metadata": {
    "collapsed": true
   },
   "source": [
    "Other types of plots"
   ]
  },
  {
   "cell_type": "code",
   "execution_count": null,
   "metadata": {
    "collapsed": false
   },
   "outputs": [],
   "source": [
    "# Dual axis\n",
    "strain_AE_1, AE_1 = np.loadtxt('Data/1p_AE.dat', unpack=True)\n",
    "\n",
    "fig = plt.figure(figsize=(8,6), dpi=300)\n",
    "axis1 = fig.add_subplot(111)\n",
    "\n",
    "axis1.plot(strain_1, stress_1, color='b',linestyle='-')#left axis plot\n",
    "\n",
    "axis2 = axis1.twinx()#New axis for second plot\n",
    "axis2.plot(strain_AE_1, AE_1, marker='o', color='r', linestyle='')#right axis plot\n",
    "    \n",
    "axis1.tick_params(axis='x', labelsize=16, width=1, length=6, color='k')#customize shared x axis\n",
    "axis1.tick_params(axis='y', labelsize=16, width=1, length=6, color='b')#customize left y axis\n",
    "axis2.tick_params(axis='y', labelsize=16, width=1, length=6, color='r')#customize right y axis\n",
    "\n",
    "axis1.set_xlabel('Strain (%)', fontsize=18, color='k')#customize x axis label\n",
    "axis1.set_ylabel('Stress (MPa)', fontsize=18, color='b')#customize left y axis label\n",
    "axis2.set_ylabel('AE Events', fontsize=18, color='r')# customize right y axis label\n",
    "\n",
    "#change y axis tick colors to match plots and labels\n",
    "for tl in axis1.get_yticklabels():\n",
    "    tl.set_color('b')\n",
    "for t2 in axis2.get_yticklabels():\n",
    "    t2.set_color('r')\n",
    "\n",
    "fig.tight_layout()\n",
    "plt.savefig('AE Dual Plot.png', dpi=300, transparent=True, bbox_inches='tight')#save figure\n",
    "plt.show()"
   ]
  },
  {
   "cell_type": "markdown",
   "metadata": {},
   "source": [
    "Can you plot up both the 0.8% and 1% AE and stress-strain data?"
   ]
  },
  {
   "cell_type": "code",
   "execution_count": null,
   "metadata": {
    "collapsed": true
   },
   "outputs": [],
   "source": []
  },
  {
   "cell_type": "markdown",
   "metadata": {},
   "source": [
    "Histograms can be created and customized with bar charts"
   ]
  },
  {
   "cell_type": "code",
   "execution_count": null,
   "metadata": {
    "collapsed": false
   },
   "outputs": [],
   "source": [
    "from collections import Counter\n",
    "def bin(data, nearest):\n",
    "    return data//nearest * nearest\n",
    "\n",
    "crack_spacing = pd.read_csv('Data/Crack_Spacing.csv')\n",
    "bin_size = 50\n",
    "histogram = Counter(bin(crack_spacing['1%'], bin_size))\n",
    "\n",
    "plt.bar([x - bin_size/2 for x in histogram.keys()],\n",
    "        histogram.values(),\n",
    "       bin_size,\n",
    "       color='b')\n",
    "plt.xlabel(r'Distance ($\\mu$m)')\n",
    "plt.ylabel('Counts')\n",
    "plt.show()"
   ]
  },
  {
   "cell_type": "markdown",
   "metadata": {},
   "source": [
    "You can also create more complicated statistical plots like box and wisker plots"
   ]
  },
  {
   "cell_type": "code",
   "execution_count": null,
   "metadata": {
    "collapsed": false
   },
   "outputs": [],
   "source": [
    "fig = plt.figure(figsize=(8,6), dpi=300)\n",
    "axis = fig.add_subplot(111)\n",
    "axis.boxplot([crack_spacing['0.60%'].dropna(), crack_spacing['0.80%'].dropna(), crack_spacing['1%']], labels=[0.6, 0.8, 1],\n",
    "             showmeans=True, showfliers=False)\n",
    "\n",
    "\n",
    "axis.set_xlabel('Applied Strain (%)', fontsize=21)\n",
    "axis.set_ylabel(r\"Crack Spacing ($\\mu$m)\", fontsize=21)\n",
    "axis.set_ylim((0,5500))\n",
    "\n",
    "axis.tick_params(axis='both', labelsize=18, width=1, length=6)\n",
    "\n",
    "fig.tight_layout()\n",
    "plt.show()"
   ]
  },
  {
   "cell_type": "markdown",
   "metadata": {},
   "source": [
    "## Polynomial Fits"
   ]
  },
  {
   "cell_type": "markdown",
   "metadata": {},
   "source": [
    "### polyfit"
   ]
  },
  {
   "cell_type": "code",
   "execution_count": null,
   "metadata": {
    "collapsed": false
   },
   "outputs": [],
   "source": [
    "xpts = np.array([-0.00277548,  0.05054682,  0.09884243,  0.15050353,  0.2043714 ,\n",
    "        0.2673504 ,  0.31166931,  0.36810553,  0.42994462,  0.47410875,\n",
    "        0.52502518,  0.58319889,  0.63255629,  0.68947873,  0.73936911,\n",
    "        0.78223203,  0.83352218,  0.88542309,  0.95411693,  0.99374055])\n",
    "ypts = np.array([ 3.98243306,  3.9458505 ,  3.88952255,  3.88233932,  3.82954024,\n",
    "        3.79078335,  3.78995186,  3.78609901,  3.74641752,  3.76705311,\n",
    "        3.73326272,  3.7574849 ,  3.76585836,  3.78432577,  3.82397269,\n",
    "        3.82289336,  3.8670322 ,  3.90018757,  3.95053416,  3.98146095])\n",
    "\n",
    "\n",
    "#get the coeff for a 2nd order polynomial fit\n",
    "poly_coeff = np.polyfit(xpts, ypts, 2)\n",
    "print('Fit coefficients = ', poly_coeff)\n",
    "\n",
    "x = np.linspace(0, 1, 10)\n",
    "y_poly = np.polyval(poly_coeff, x)\n",
    "\n",
    "plt.plot(xpts, ypts, 'ko')\n",
    "plt.plot(x, y_poly, 'b--')\n",
    "plt.show()"
   ]
  },
  {
   "cell_type": "markdown",
   "metadata": {},
   "source": [
    "polyfit can also output the residuals of the fit and covarience matrix  \n",
    "with the residuals you can easily calculate the coefficient of determination $R^2$"
   ]
  },
  {
   "cell_type": "code",
   "execution_count": null,
   "metadata": {
    "collapsed": false
   },
   "outputs": [],
   "source": [
    "fit = np.polyfit(xpts, ypts, 2, full=True)\n",
    "coeff = fit[0]\n",
    "residuals = fit[1]\n",
    "covariance = fit[3]\n",
    "\n",
    "R2 = 1 - residuals / sum((ypts-np.mean(ypts))**2)\n",
    "print('R2 = {:0.2f}'.format(R2[0]))"
   ]
  },
  {
   "cell_type": "markdown",
   "metadata": {},
   "source": [
    "### least squares analysis can also be used to find fits, useful for more complicated equations than polynomials"
   ]
  },
  {
   "cell_type": "code",
   "execution_count": null,
   "metadata": {
    "collapsed": false
   },
   "outputs": [],
   "source": [
    "A = np.vstack([xpts**2, xpts, np.ones(len(ypts))]).T\n",
    "fit = np.linalg.lstsq(A, y)\n",
    "coeff = fit[0]\n",
    "\n",
    "x = np.linspace(0, 1, 10)\n",
    "y_poly = np.polyval(poly_coeff, x)\n",
    "\n",
    "plt.plot(xpts, ypts, 'ko')\n",
    "plt.plot(x, y_poly, 'b--')\n",
    "plt.show()\n",
    "\n",
    "residuals = fit[1]\n",
    "R2 = 1 - residuals / sum((ypts-np.mean(ypts))**2)\n",
    "print('R2 = {:0.2f}'.format(R2[0]))"
   ]
  },
  {
   "cell_type": "markdown",
   "metadata": {},
   "source": [
    "Can you find the modulus for the 1% AE samples using the stress-strain data between 0.1% and 0.3% strain?"
   ]
  },
  {
   "cell_type": "code",
   "execution_count": null,
   "metadata": {
    "collapsed": true
   },
   "outputs": [],
   "source": []
  },
  {
   "cell_type": "markdown",
   "metadata": {
    "collapsed": true
   },
   "source": [
    "## Interpolation"
   ]
  },
  {
   "cell_type": "markdown",
   "metadata": {},
   "source": [
    "### 1D Interpolation"
   ]
  },
  {
   "cell_type": "code",
   "execution_count": null,
   "metadata": {
    "collapsed": false
   },
   "outputs": [],
   "source": [
    "from scipy.interpolate import interp1d\n",
    "\n",
    "xpts = np.linspace(0, 10, 11)\n",
    "ypts = np.sin(-xpts**2/8.0)\n",
    "\n",
    "#interp1d creates an interpoloation function\n",
    "linear_f = interp1d(xpts, ypts, kind='linear')\n",
    "cubic_f = interp1d(xpts, ypts, kind='cubic')\n",
    "\n",
    "x = np.linspace(0, 10, 201)\n",
    "linear_y = linear_f(x)\n",
    "cubic_y = cubic_f(x)\n",
    "exact_y = np.sin(-x**2 / 8.0)\n",
    "\n",
    "plt.plot(xpts, ypts, 'ko',\n",
    "         x, linear_y, 'r--',\n",
    "         x, cubic_y, 'r-',\n",
    "         x, exact_y, 'k-')\n",
    "plt.legend(['data', 'linear', 'cubic', 'exact'], loc='upper left', ncol=2)\n",
    "plt.ylim((-1.5,1.5))\n",
    "plt.show()"
   ]
  },
  {
   "cell_type": "markdown",
   "metadata": {},
   "source": [
    "### 2D Interpolation using griddata"
   ]
  },
  {
   "cell_type": "code",
   "execution_count": null,
   "metadata": {
    "collapsed": false
   },
   "outputs": [],
   "source": [
    "from scipy.interpolate import griddata\n",
    "import matplotlib.cm as cm\n",
    "import numpy as np\n",
    "import matplotlib.pyplot as plt\n",
    "\n",
    "def func(x, y):\n",
    "    return x*(1-x)*np.cos(4*np.pi*x) * np.sin(2*np.pi*np.sqrt(y))\n",
    "\n",
    "# Define the basic grid coordinates.\n",
    "grid_x, grid_y = np.meshgrid(np.linspace(0, 1, 250), np.linspace(0, 1, 250))\n",
    "\n",
    "# Define a random subset of the grid for which we will generate data.\n",
    "pts = np.random.rand(500,2)\n",
    "vals = func(pts[:,0], pts[:,1])\n",
    "grid_original = func(grid_x, grid_y)\n",
    "\n",
    "#griddata interpolates over the grid values grid_x and grid_y and outputs an array\n",
    "grid_nearest = griddata(pts, vals, (grid_x, grid_y), method='nearest')\n",
    "grid_linear = griddata(pts, vals, (grid_x, grid_y), method='linear')\n",
    "grid_cubic = griddata(pts, vals, (grid_x, grid_y), method='cubic')\n",
    "\n",
    "plt.subplot(221)\n",
    "plt.imshow(grid_original, extent=(0,1,0,1), origin='lower', cmap=cm.PiYG)\n",
    "plt.plot(pts[:,0], pts[:,1], 'k.', ms=1)\n",
    "plt.title('Original')\n",
    "\n",
    "plt.subplot(222)\n",
    "plt.imshow(grid_nearest, extent=(0,1,0,1), origin='lower', cmap=cm.PiYG)\n",
    "plt.title('Nearest')\n",
    "\n",
    "plt.subplot(223)\n",
    "plt.imshow(grid_linear, extent=(0,1,0,1), origin='lower', cmap=cm.PiYG)\n",
    "plt.title('Linear')\n",
    "\n",
    "plt.subplot(224)\n",
    "plt.imshow(grid_cubic, extent=(0,1,0,1), origin='lower', cmap=cm.PiYG)\n",
    "plt.title('Cubic')\n",
    "\n",
    "plt.gcf().set_size_inches(12, 12)\n",
    "plt.show()"
   ]
  },
  {
   "cell_type": "code",
   "execution_count": null,
   "metadata": {
    "collapsed": true
   },
   "outputs": [],
   "source": []
  }
 ],
 "metadata": {
  "kernelspec": {
   "display_name": "Python 3",
   "language": "python",
   "name": "python3"
  },
  "language_info": {
   "codemirror_mode": {
    "name": "ipython",
    "version": 3
   },
   "file_extension": ".py",
   "mimetype": "text/x-python",
   "name": "python",
   "nbconvert_exporter": "python",
   "pygments_lexer": "ipython3",
   "version": "3.5.0"
  }
 },
 "nbformat": 4,
 "nbformat_minor": 0
}
