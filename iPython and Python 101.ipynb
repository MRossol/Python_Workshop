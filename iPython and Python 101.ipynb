{
 "cells": [
  {
   "cell_type": "markdown",
   "metadata": {},
   "source": [
    "# IPython (Jupyter) Notebooks 101\n",
    "\n",
    "Jupyter, formerly IPython notebooks are \"**an enhanced Interactive Python shell**\". For those familiar with Mathematica the format will look very familiar.\n",
    "\n",
    "Many of these examples were taken from Python sp-16 put together by UIUC CS department  \n",
    "https://github.com/uiuc-cse/python-sp16"
   ]
  },
  {
   "cell_type": "markdown",
   "metadata": {},
   "source": [
    "This is a markdown cell, it allows you to write plan text\n",
    "# With Headers\n",
    "## And Subheaders\n",
    "\n",
    "IPython also supports $\\LaTeX$\n",
    "\n",
    "To create a line break end each line with two spaces  \n",
    "Or else the lines run together \n",
    "Like this\n",
    "\n",
    "Lines are excecuted using Shift + Enter (Num pad Enter != Shift + Enter, Sorry Mathematica users...)"
   ]
  },
  {
   "cell_type": "code",
   "execution_count": null,
   "metadata": {
    "collapsed": false
   },
   "outputs": [],
   "source": [
    "#This is a code cell (and a comment)"
   ]
  },
  {
   "cell_type": "markdown",
   "metadata": {},
   "source": [
    "Cells allow you to execute any form of Python code.  \n",
    "For example doing basic arithmatic:"
   ]
  },
  {
   "cell_type": "code",
   "execution_count": null,
   "metadata": {
    "collapsed": false
   },
   "outputs": [],
   "source": [
    "5+5"
   ]
  },
  {
   "cell_type": "markdown",
   "metadata": {},
   "source": [
    "Or creating variables"
   ]
  },
  {
   "cell_type": "code",
   "execution_count": null,
   "metadata": {
    "collapsed": true
   },
   "outputs": [],
   "source": [
    "x = 5\n",
    "y = x**2"
   ]
  },
  {
   "cell_type": "markdown",
   "metadata": {},
   "source": [
    "IPython will display the last call of a cell"
   ]
  },
  {
   "cell_type": "code",
   "execution_count": null,
   "metadata": {
    "collapsed": false
   },
   "outputs": [],
   "source": [
    "y"
   ]
  },
  {
   "cell_type": "markdown",
   "metadata": {},
   "source": [
    "Or you can use print to print values from anywhere in the cell"
   ]
  },
  {
   "cell_type": "code",
   "execution_count": null,
   "metadata": {
    "collapsed": false
   },
   "outputs": [],
   "source": [
    "print(y)\n",
    "x = 3\n",
    "y = x + x**2\n",
    "y"
   ]
  },
  {
   "cell_type": "markdown",
   "metadata": {},
   "source": [
    "## Built in Ipython tools/calls"
   ]
  },
  {
   "cell_type": "code",
   "execution_count": null,
   "metadata": {
    "collapsed": true
   },
   "outputs": [],
   "source": [
    "xmen='Text'"
   ]
  },
  {
   "cell_type": "markdown",
   "metadata": {},
   "source": [
    "Tab completion allows you to autocomplete your variables. Of course, a good Python editor should also be able to this.  \n",
    "Press tab on the next cell to autocomplete and execute xmen"
   ]
  },
  {
   "cell_type": "code",
   "execution_count": null,
   "metadata": {
    "collapsed": false
   },
   "outputs": [],
   "source": [
    "x"
   ]
  },
  {
   "cell_type": "markdown",
   "metadata": {},
   "source": [
    "IPython also has \"Magic\" calls that excecute on the contents of a line or cell"
   ]
  },
  {
   "cell_type": "code",
   "execution_count": null,
   "metadata": {
    "collapsed": false
   },
   "outputs": [],
   "source": [
    "#Line magic (time to execute line)\n",
    "%timeit range(100)"
   ]
  },
  {
   "cell_type": "code",
   "execution_count": null,
   "metadata": {
    "collapsed": false
   },
   "outputs": [],
   "source": [
    "%%timeit x = range(100)\n",
    "min(x)\n",
    "max(x)\n",
    "#Cell magic (time to execute all  code in the cell)"
   ]
  },
  {
   "cell_type": "markdown",
   "metadata": {},
   "source": [
    "IPython also as built in help calls"
   ]
  },
  {
   "cell_type": "code",
   "execution_count": null,
   "metadata": {
    "collapsed": true
   },
   "outputs": [],
   "source": [
    "# Quick help\n",
    "range?"
   ]
  },
  {
   "cell_type": "code",
   "execution_count": null,
   "metadata": {
    "collapsed": false
   },
   "outputs": [],
   "source": [
    "# or inline more indepth help\n",
    "help(range)"
   ]
  },
  {
   "cell_type": "markdown",
   "metadata": {},
   "source": [
    "IPython can also write, edit, and run python (.py) files"
   ]
  },
  {
   "cell_type": "code",
   "execution_count": null,
   "metadata": {
    "collapsed": false
   },
   "outputs": [],
   "source": [
    "%%writefile HelloWorld.py\n",
    "print(\"Hello World\")"
   ]
  },
  {
   "cell_type": "code",
   "execution_count": null,
   "metadata": {
    "collapsed": false
   },
   "outputs": [],
   "source": [
    "%run HelloWorld.py"
   ]
  },
  {
   "cell_type": "markdown",
   "metadata": {},
   "source": [
    "This is just the tip of the iceburg. For more info on IPython check out:  \n",
    "http://ipython.readthedocs.io/en/stable/"
   ]
  },
  {
   "cell_type": "markdown",
   "metadata": {},
   "source": [
    "# Python 101\n",
    "Examples based on Python sp-16 and \"Data Science from Scratch\" By Joel Grus"
   ]
  },
  {
   "cell_type": "markdown",
   "metadata": {},
   "source": [
    "Python is particularly powerful because it is open source with thousands of packages available to import.  \n",
    "Lets import some basic modules here:"
   ]
  },
  {
   "cell_type": "code",
   "execution_count": null,
   "metadata": {
    "collapsed": true
   },
   "outputs": [],
   "source": [
    "from __future__ import division #Pyton 2.x call to convert / to normal division, not neccesary in python 3.0+\n",
    "\n",
    "import numpy as np #Numerial package\n",
    "import scipy as sp #Advanced numerical package\n",
    "import matplotlib as mpl #Plotting Library\n",
    "import matplotlib.pyplot as plt #Plotting package\n",
    "\n",
    "#IPython magic command for inline plotting\n",
    "%matplotlib inline"
   ]
  },
  {
   "cell_type": "markdown",
   "metadata": {},
   "source": [
    "Packages are access using object oriented calles (more on object oriented programing or OOP later) to access their sub modules:  \n",
    "I.E., numpy.mean() calculates the mean or numpy.std() calculates the standard deviation.  \n",
    "Since constantly typing numpy is annoying the as command allow you to set a custom short hand call (np traditionally).  \n",
    "Now np.mean() = numpy.mean()"
   ]
  },
  {
   "cell_type": "markdown",
   "metadata": {},
   "source": [
    "## Types in Python\n",
    "- Integers = 5\n",
    "- Floats = 5.5\n",
    "- Strings = \"Foo\"\n",
    "- Lists = [1, 2, \"Foo\", \"Bar\"]\n",
    "- Tuples = (1, 2, \"Foo\", \"Bar\")\n",
    "- Dictionaries = {\"Foo\" : 1, \"Bar\" : 2}\n",
    "- Boolean = True, False\n",
    "- Functions = f(x)\n",
    "- Classes = OOP"
   ]
  },
  {
   "cell_type": "markdown",
   "metadata": {},
   "source": [
    "### Ints, floats, and arithmatic"
   ]
  },
  {
   "cell_type": "code",
   "execution_count": null,
   "metadata": {
    "collapsed": false
   },
   "outputs": [],
   "source": [
    "print(5 + 5) #int\n",
    "print(5.0 + 5)# float\n",
    "print(5/2)#float \n",
    "print(5//2)#integer division\n",
    "print(5*2)\n",
    "print(5**2)"
   ]
  },
  {
   "cell_type": "markdown",
   "metadata": {},
   "source": [
    "### Strings"
   ]
  },
  {
   "cell_type": "markdown",
   "metadata": {},
   "source": [
    "Strings are surrounded by single or double quotes, quotes just have to match. Double quotes are more common as they allow for the use of single quotes internally."
   ]
  },
  {
   "cell_type": "code",
   "execution_count": null,
   "metadata": {
    "collapsed": false
   },
   "outputs": [],
   "source": [
    "single_quote_string = 'foo'\n",
    "double_quote_string = \"bar\"; print(single_quote_string, double_quote_string)\n",
    "double_with_single = \"foo's bar\"; print(double_with_single)\n",
    "len(single_quote_string) #strings have lengths like lists"
   ]
  },
  {
   "cell_type": "markdown",
   "metadata": {},
   "source": [
    "Backslashes are used to encode special characters"
   ]
  },
  {
   "cell_type": "code",
   "execution_count": null,
   "metadata": {
    "collapsed": false
   },
   "outputs": [],
   "source": [
    "tab_string = \"\\t\"\n",
    "len(tab_string)"
   ]
  },
  {
   "cell_type": "markdown",
   "metadata": {},
   "source": [
    "If you want a backslash use raw strings"
   ]
  },
  {
   "cell_type": "code",
   "execution_count": null,
   "metadata": {
    "collapsed": false
   },
   "outputs": [],
   "source": [
    "backslash_string = r\"\\t\"\n",
    "print(backslash_string)"
   ]
  },
  {
   "cell_type": "markdown",
   "metadata": {},
   "source": [
    "Strings can be combined with \"+\""
   ]
  },
  {
   "cell_type": "code",
   "execution_count": null,
   "metadata": {
    "collapsed": true
   },
   "outputs": [],
   "source": [
    "combined_string = \"foo\" + \"bar\""
   ]
  },
  {
   "cell_type": "markdown",
   "metadata": {},
   "source": [
    "Strings are their own class with their own methods like split, replace, etc.  \n",
    "For more info check out: http://www.tutorialspoint.com/python/python_strings.htm"
   ]
  },
  {
   "cell_type": "code",
   "execution_count": null,
   "metadata": {
    "collapsed": false
   },
   "outputs": [],
   "source": [
    "combined_string.replace(\"bar\", \"foo\")"
   ]
  },
  {
   "cell_type": "markdown",
   "metadata": {},
   "source": [
    "Positional Formating allows you to insert and formation values into strings:\n",
    "https://pyformat.info/"
   ]
  },
  {
   "cell_type": "code",
   "execution_count": null,
   "metadata": {
    "collapsed": false
   },
   "outputs": [],
   "source": [
    "print('%s %s' % ('one', 'two')) #Old format\n",
    "\n",
    "print('{} {}'.format('one', 'two')) #new format"
   ]
  },
  {
   "cell_type": "markdown",
   "metadata": {},
   "source": [
    "It is expecially powerful with inserting numbers into strings"
   ]
  },
  {
   "cell_type": "code",
   "execution_count": null,
   "metadata": {
    "collapsed": false
   },
   "outputs": [],
   "source": [
    "print('{}'.format(42))#Insert\n",
    "print('{:d}'.format(42))#Insert as int\n",
    "print('{:f}'.format(42))#Insert as float\n",
    "print('{:4d}'.format(42))#Insert and pad\n",
    "print('{:.2f}'.format(42))#Insert and clip"
   ]
  },
  {
   "cell_type": "markdown",
   "metadata": {},
   "source": [
    "### Lists [ ]"
   ]
  },
  {
   "cell_type": "code",
   "execution_count": null,
   "metadata": {
    "collapsed": false
   },
   "outputs": [],
   "source": [
    "int_list = [1, 2, 3]\n",
    "mixed_list = [\"string\", 0.1, 2, True]\n",
    "list_of_lists = [int_list, mixed_list, []]; print(list_of_lists)"
   ]
  },
  {
   "cell_type": "code",
   "execution_count": null,
   "metadata": {
    "collapsed": false
   },
   "outputs": [],
   "source": [
    "list_len = len(int_list); print(list_len) #; allows you to execute two pieces of code on one line, useful for print\n",
    "list_sum = sum(int_list); print(list_sum)"
   ]
  },
  {
   "cell_type": "markdown",
   "metadata": {},
   "source": [
    "#### Slicing lists\n",
    "Python uses zero indexing!!!"
   ]
  },
  {
   "cell_type": "code",
   "execution_count": null,
   "metadata": {
    "collapsed": false
   },
   "outputs": [],
   "source": [
    "x = list(range(10)); print(x)\n",
    "zero = x[0]\n",
    "one = x[1]\n",
    "nine = x[-1]\n",
    "eight = x[-2]\n",
    "x[0] = -1\n",
    "print(x)"
   ]
  },
  {
   "cell_type": "code",
   "execution_count": null,
   "metadata": {
    "collapsed": true
   },
   "outputs": [],
   "source": [
    "x = list(range(10))\n",
    "first_three = x[:3]\n",
    "three_to_end = x[3:]\n",
    "one_to_four = x[1:5]\n",
    "last_three = x[-3:]\n",
    "without_first_last = x[1:-1]\n",
    "every_other = x[::2]\n",
    "reverse_list = x[::-1]"
   ]
  },
  {
   "cell_type": "code",
   "execution_count": null,
   "metadata": {
    "collapsed": false
   },
   "outputs": [],
   "source": [
    "y = x\n",
    "copy_of_x = x[:]\n",
    "x[0] = -1\n",
    "#what does y[0] equal?\n",
    "#what does copy_of_x[0] equal?"
   ]
  },
  {
   "cell_type": "markdown",
   "metadata": {},
   "source": [
    "#### Searching and adding to lists"
   ]
  },
  {
   "cell_type": "code",
   "execution_count": null,
   "metadata": {
    "collapsed": false
   },
   "outputs": [],
   "source": [
    "print(1 in [1, 2, 3])\n",
    "print(0 in [1, 2, 3])"
   ]
  },
  {
   "cell_type": "markdown",
   "metadata": {},
   "source": [
    "Extend and append allow you to add elements to a list"
   ]
  },
  {
   "cell_type": "code",
   "execution_count": null,
   "metadata": {
    "collapsed": false
   },
   "outputs": [],
   "source": [
    "x = [1, 2, 3]\n",
    "x.append(4) #add one item\n",
    "print(x)\n",
    "x = [1, 2, 3]\n",
    "x.extend([4, 5, 6]) #add multiple items (i.e., another list)\n",
    "print(x)"
   ]
  },
  {
   "cell_type": "markdown",
   "metadata": {},
   "source": [
    "Again '+' combines lists, it also doesn't change the original list like append and extend"
   ]
  },
  {
   "cell_type": "code",
   "execution_count": null,
   "metadata": {
    "collapsed": false
   },
   "outputs": [],
   "source": [
    "x = [1, 2, 3]\n",
    "y = [4, 5, 6]\n",
    "z = x + y; print(z)"
   ]
  },
  {
   "cell_type": "markdown",
   "metadata": {},
   "source": [
    "*How would you add one entry to x without changing x (i.e., using + not append)?*"
   ]
  },
  {
   "cell_type": "code",
   "execution_count": null,
   "metadata": {
    "collapsed": true
   },
   "outputs": [],
   "source": []
  },
  {
   "cell_type": "markdown",
   "metadata": {},
   "source": [
    "#### Unpacking Lists"
   ]
  },
  {
   "cell_type": "code",
   "execution_count": null,
   "metadata": {
    "collapsed": true
   },
   "outputs": [],
   "source": [
    "x, y = [1, 2] # set x and y to 1 and 2\n",
    "_, z = [3, 4] # _ is used for values you don't care about"
   ]
  },
  {
   "cell_type": "markdown",
   "metadata": {},
   "source": [
    "### Tuples ( )\n",
    "Tuples are lists' immutable equivalents, i.e., they are lists whose values you can not change."
   ]
  },
  {
   "cell_type": "code",
   "execution_count": null,
   "metadata": {
    "collapsed": false
   },
   "outputs": [],
   "source": [
    "my_list = [1, 2]\n",
    "my_tuple = (1, 2)\n",
    "other_tuple = 3, 4\n",
    "my_list[1] = 3\n",
    "\n",
    "try:\n",
    "    my_tuple[1] = 3\n",
    "except TypeError:\n",
    "    print(\"Cannot modify a tuple\")"
   ]
  },
  {
   "cell_type": "markdown",
   "metadata": {},
   "source": [
    "You can combine, slice, and unpack tuples like lists"
   ]
  },
  {
   "cell_type": "code",
   "execution_count": null,
   "metadata": {
    "collapsed": false
   },
   "outputs": [],
   "source": [
    "t = (1, 2, 3)\n",
    "u = t + (3, 4, 5)\n",
    "print(u)\n",
    "v = t[:-1]\n",
    "print(v)"
   ]
  },
  {
   "cell_type": "code",
   "execution_count": null,
   "metadata": {
    "collapsed": true
   },
   "outputs": [],
   "source": [
    "t, u, v = (1, 2, 3)"
   ]
  },
  {
   "cell_type": "markdown",
   "metadata": {},
   "source": [
    "*What happens when you create a list of tuples or a tuple of lists?  \n",
    "What can you change and what can you not?*"
   ]
  },
  {
   "cell_type": "code",
   "execution_count": null,
   "metadata": {
    "collapsed": true
   },
   "outputs": [],
   "source": []
  },
  {
   "cell_type": "markdown",
   "metadata": {},
   "source": [
    "### Dictionaries { }\n",
    "Dictionaries associate values with keys not positions with values like lists and tuples"
   ]
  },
  {
   "cell_type": "code",
   "execution_count": null,
   "metadata": {
    "collapsed": false
   },
   "outputs": [],
   "source": [
    "empty_dict = {}\n",
    "grades = {\"Joel\" : 80, \"Tim\" : 95}\n",
    "joels_grade = grades[\"Joel\"] # Values are accessed by interegating keys in square brackets\n",
    "print(joels_grade)"
   ]
  },
  {
   "cell_type": "code",
   "execution_count": null,
   "metadata": {
    "collapsed": false
   },
   "outputs": [],
   "source": [
    "try:\n",
    "    kates_grade = grades[\"Kate\"]\n",
    "except KeyError:\n",
    "    print(\"No grade for Kate!\")"
   ]
  },
  {
   "cell_type": "markdown",
   "metadata": {},
   "source": [
    "You can check for keys in dicts"
   ]
  },
  {
   "cell_type": "code",
   "execution_count": null,
   "metadata": {
    "collapsed": false
   },
   "outputs": [],
   "source": [
    "joels_has_grade = \"Joel\" in grades; print(joels_has_grade)\n",
    "kates_has_grade = \"Kate\" in grades; print(kates_has_grade)"
   ]
  },
  {
   "cell_type": "markdown",
   "metadata": {},
   "source": [
    "Dicts have a get method that returns a default value if the key doesn't exist"
   ]
  },
  {
   "cell_type": "code",
   "execution_count": null,
   "metadata": {
    "collapsed": false
   },
   "outputs": [],
   "source": [
    "joels_grade = grades.get(\"Joel\", 0); print(joels_grade)\n",
    "kates_grade = grades.get(\"Kate\", 0); print(kates_grade)\n",
    "no_ones_grade = grades.get(\"No One\") #default return in get is None\n",
    "print(no_ones_grade)"
   ]
  },
  {
   "cell_type": "markdown",
   "metadata": {},
   "source": [
    "Dict are mutable like lists"
   ]
  },
  {
   "cell_type": "code",
   "execution_count": null,
   "metadata": {
    "collapsed": false
   },
   "outputs": [],
   "source": [
    "grades[\"Tim\"] = 99 #Change Tim's grade\n",
    "grades[\"Kate\"] = 100 #Add \"Kate\" to grade\n",
    "num_students = len(grades); print(num_students)"
   ]
  },
  {
   "cell_type": "markdown",
   "metadata": {},
   "source": [
    "Finally can interegate the diffent aspect of dict's i.e., values and keys"
   ]
  },
  {
   "cell_type": "code",
   "execution_count": null,
   "metadata": {
    "collapsed": true
   },
   "outputs": [],
   "source": [
    "group = {\n",
    "    \"name\" : \"Sottos\",\n",
    "    \"size\" : 26,\n",
    "    \"department\" : \"MSEB\",\n",
    "    \"sub_groups\" : [\"BP\", \"Regen\", \"CEIMM\", \"Coatings\"]\n",
    "}"
   ]
  },
  {
   "cell_type": "code",
   "execution_count": null,
   "metadata": {
    "collapsed": false
   },
   "outputs": [],
   "source": [
    "group_keys = group.keys(); print(group_keys) # list of keys\n",
    "group_values = group.values(); print(group_values) # list of values\n",
    "group_items = group.items(); print(group_items) # list of (key, value) tuples"
   ]
  },
  {
   "cell_type": "markdown",
   "metadata": {},
   "source": [
    "*What did you notice about the order of group_keys and group_values?  \n",
    "What happens if you call group.keys() or group.values() again?*"
   ]
  },
  {
   "cell_type": "code",
   "execution_count": null,
   "metadata": {
    "collapsed": true
   },
   "outputs": [],
   "source": []
  },
  {
   "cell_type": "markdown",
   "metadata": {},
   "source": [
    "*What happens if you create a dictionary which in a dictionary?*"
   ]
  },
  {
   "cell_type": "code",
   "execution_count": null,
   "metadata": {
    "collapsed": true
   },
   "outputs": [],
   "source": []
  },
  {
   "cell_type": "markdown",
   "metadata": {},
   "source": [
    "#### Counter\n",
    "Useful for histograms"
   ]
  },
  {
   "cell_type": "code",
   "execution_count": null,
   "metadata": {
    "collapsed": false
   },
   "outputs": [],
   "source": [
    "from collections import Counter #from is used to import a single module from a package (Counter from collection)\n",
    "\n",
    "c = Counter([0, 1, 2, 0]); print(c)\n",
    "print(c.keys())\n",
    "print(c.values())"
   ]
  },
  {
   "cell_type": "markdown",
   "metadata": {},
   "source": [
    "### Booleans"
   ]
  },
  {
   "cell_type": "code",
   "execution_count": null,
   "metadata": {
    "collapsed": false
   },
   "outputs": [],
   "source": [
    "one_is_less_than_two = 1 < 2; print(one_is_less_than_two)\n",
    "true_equals_false = True == False; print(true_equals_false)"
   ]
  },
  {
   "cell_type": "markdown",
   "metadata": {},
   "source": [
    "In Python the following are False when used in a Boolean scenario:\n",
    "- False\n",
    "- None\n",
    "- [] (an empy list)\n",
    "- {} (an empty dictionary)\n",
    "- \"\"\n",
    "- 0\n",
    "- 0.0\n",
    "\n",
    "Pretty much everything else is True"
   ]
  },
  {
   "cell_type": "markdown",
   "metadata": {},
   "source": [
    "all and any are used for multiple booleans, i.e. a list of booleans"
   ]
  },
  {
   "cell_type": "code",
   "execution_count": null,
   "metadata": {
    "collapsed": false
   },
   "outputs": [],
   "source": [
    "print(all([True, 1, {3}]))\n",
    "print(all([True, 1, {}]))\n",
    "print(any([True, 1, {}]))\n",
    "print(any([None, 0, []]))"
   ]
  },
  {
   "cell_type": "markdown",
   "metadata": {},
   "source": [
    "## The not so basic"
   ]
  },
  {
   "cell_type": "markdown",
   "metadata": {},
   "source": [
    "### White space and loops"
   ]
  },
  {
   "cell_type": "markdown",
   "metadata": {},
   "source": [
    "White space formating: While many languages use {} or ; to denote blocks of text, or the end of lines, Python uses indentation. This makes python very readable, but also means you have to be careful with formating, particulary when not using a python specific compiler/formater."
   ]
  },
  {
   "cell_type": "code",
   "execution_count": null,
   "metadata": {
    "collapsed": false,
    "scrolled": false
   },
   "outputs": [],
   "source": [
    "for i in [1, 2, 3]:\n",
    "    print(i) # first line \"for i\" block\n",
    "    for j in [1, 2, 3]:\n",
    "        print(j) # first line \"for j block\"\n",
    "        print(i + j) # second line \"for j block\"\n",
    "    print(i) # last line \"for i\" block\n",
    "print(\"done looping\")"
   ]
  },
  {
   "cell_type": "markdown",
   "metadata": {},
   "source": [
    "White space is ignored inside () and []. This lets you used multiple lines to make code easier to read"
   ]
  },
  {
   "cell_type": "code",
   "execution_count": null,
   "metadata": {
    "collapsed": false
   },
   "outputs": [],
   "source": [
    "one_line_computation = (1 + 2 + 3 + 4 + 5 + 6 + 7 + 8 + 9 + 10 + 11 + 12 + 13 + 14 + 15 + 16 + 17 + 18 + 19 + 20)\n",
    "multi_line_computation = (1 + 2 + 3 + 4 + 5 + \n",
    "                           6 + 7 + 8 + 9 + 10 + \n",
    "                           11 + 12 + 13 + 14 + 15 + \n",
    "                           16 + 17 + 18 + 19 + 20)\n",
    "one_line_computation == multi_line_computation"
   ]
  },
  {
   "cell_type": "code",
   "execution_count": null,
   "metadata": {
    "collapsed": true
   },
   "outputs": [],
   "source": [
    "list_of_lists = [[1, 2, 3], [4, 5, 6], [7, 8, 9]]\n",
    "easier_to_read = [[1, 2, 3], \n",
    "                  [4, 5, 6], \n",
    "                  [7, 8, 9]]"
   ]
  },
  {
   "cell_type": "code",
   "execution_count": null,
   "metadata": {
    "collapsed": false
   },
   "outputs": [],
   "source": [
    "\"\"\"\n",
    "Multi-line strings \n",
    "are created using \n",
    "triple quotes.\n",
    "\"\"\""
   ]
  },
  {
   "cell_type": "markdown",
   "metadata": {},
   "source": [
    "Iterating through list or repeating functions multiple times is the corner stone of programing.  \n",
    "for loops are intuitive in python as they do what they say"
   ]
  },
  {
   "cell_type": "code",
   "execution_count": null,
   "metadata": {
    "collapsed": false
   },
   "outputs": [],
   "source": [
    "strings = [\"foo\", \"bar\", \"hello\", \"world\", \"foo bar\"]\n",
    "\n",
    "for string in strings: #: indicate the begining of the code to be looped\n",
    "    print(string + \" contains {} characters\".format(len(string)))"
   ]
  },
  {
   "cell_type": "code",
   "execution_count": null,
   "metadata": {
    "collapsed": false
   },
   "outputs": [],
   "source": [
    "for string in strings:\n",
    "    if len(string)>3: \n",
    "        print(string + \" has more than 3 characters\")"
   ]
  },
  {
   "cell_type": "markdown",
   "metadata": {},
   "source": [
    "While loops will run till told otherwise.  \n",
    "Either by a change of boolean state:"
   ]
  },
  {
   "cell_type": "code",
   "execution_count": null,
   "metadata": {
    "collapsed": false
   },
   "outputs": [],
   "source": [
    "i = 0\n",
    "while i < 5:\n",
    "    print(i)\n",
    "    i += 1"
   ]
  },
  {
   "cell_type": "markdown",
   "metadata": {},
   "source": [
    "But more often it is used to run until told to break (exit)"
   ]
  },
  {
   "cell_type": "code",
   "execution_count": null,
   "metadata": {
    "collapsed": false
   },
   "outputs": [],
   "source": [
    "while True:\n",
    "    reply = input('Enter Number:')\n",
    "    if reply == 'stop':\n",
    "        break\n",
    "    elif not reply.isdigit():\n",
    "        print('Bad!' * 8)\n",
    "    else:\n",
    "        print(int(reply) ** 2)\n",
    "print('bye')"
   ]
  },
  {
   "cell_type": "markdown",
   "metadata": {},
   "source": [
    "*Try to create a list containing the length of each string in string*"
   ]
  },
  {
   "cell_type": "code",
   "execution_count": null,
   "metadata": {
    "collapsed": true
   },
   "outputs": [],
   "source": []
  },
  {
   "cell_type": "markdown",
   "metadata": {},
   "source": [
    "### Functions"
   ]
  },
  {
   "cell_type": "code",
   "execution_count": null,
   "metadata": {
    "collapsed": false
   },
   "outputs": [],
   "source": [
    "def double(x):\n",
    "    \"\"\" This is whre you put an optional docstring\n",
    "    that explains what the function does.\n",
    "    for example, this function multiplies its input by 2\"\"\"\n",
    "    return x * 2\n",
    "\n",
    "double(10)"
   ]
  },
  {
   "cell_type": "markdown",
   "metadata": {},
   "source": [
    "Functions can have default values"
   ]
  },
  {
   "cell_type": "code",
   "execution_count": null,
   "metadata": {
    "collapsed": false
   },
   "outputs": [],
   "source": [
    "def subtract(a=0, b=0):\n",
    "    return a - b\n",
    "\n",
    "print(subtract(10, 5))\n",
    "print(subtract(0, 5))\n",
    "print(subtract(b = 5))"
   ]
  },
  {
   "cell_type": "code",
   "execution_count": null,
   "metadata": {
    "collapsed": false
   },
   "outputs": [],
   "source": [
    "def apply_to_one(f):\n",
    "    \"\"\"functions can call other funtions\n",
    "    This one calls f with 1 as its argument\"\"\"\n",
    "    return f(1)\n",
    "\n",
    "print(apply_to_one(double))\n",
    "print(apply_to_one(subtract))"
   ]
  },
  {
   "cell_type": "markdown",
   "metadata": {},
   "source": [
    "*Create a function that calculates the mean of a list of numbers*"
   ]
  },
  {
   "cell_type": "code",
   "execution_count": null,
   "metadata": {
    "collapsed": true
   },
   "outputs": [],
   "source": []
  },
  {
   "cell_type": "markdown",
   "metadata": {},
   "source": [
    "### List Comprehension\n",
    "The pythonic way to transform lists.  "
   ]
  },
  {
   "cell_type": "code",
   "execution_count": null,
   "metadata": {
    "collapsed": true
   },
   "outputs": [],
   "source": [
    "numbs = list(range(5))\n",
    "squares = [x**2 for x in numbs]\n",
    "even_numbs = [x for x in range(5) if x % 2 == 0]"
   ]
  },
  {
   "cell_type": "markdown",
   "metadata": {},
   "source": [
    "It is also how to splice list of lists"
   ]
  },
  {
   "cell_type": "code",
   "execution_count": null,
   "metadata": {
    "collapsed": false
   },
   "outputs": [],
   "source": [
    "list_of_list = [[1, 2, 3], \n",
    "                [4, 5, 6], \n",
    "                [7, 8, 9]]\n",
    "row = list_of_lists[0]; print(row)\n",
    "column = [row[0] for row in list_of_lists]; print(column)"
   ]
  },
  {
   "cell_type": "markdown",
   "metadata": {},
   "source": [
    "It also works for dictionaries"
   ]
  },
  {
   "cell_type": "code",
   "execution_count": null,
   "metadata": {
    "collapsed": true
   },
   "outputs": [],
   "source": [
    "square_dict = {x : x**2 for x in numbs}\n",
    "even_squared_dict = {x: x**2 for x in numbs if x % 2 == 0}"
   ]
  },
  {
   "cell_type": "markdown",
   "metadata": {},
   "source": [
    "If you don't need the value from the list underscore is used"
   ]
  },
  {
   "cell_type": "code",
   "execution_count": null,
   "metadata": {
    "collapsed": true
   },
   "outputs": [],
   "source": [
    "zeros = [0 for _ in even_numbs]"
   ]
  },
  {
   "cell_type": "markdown",
   "metadata": {},
   "source": [
    "You can also use multiple fors"
   ]
  },
  {
   "cell_type": "code",
   "execution_count": null,
   "metadata": {
    "collapsed": true
   },
   "outputs": [],
   "source": [
    "pairs = [[x, y] \n",
    "         for x in range(5)\n",
    "         for y in range(5)]"
   ]
  },
  {
   "cell_type": "markdown",
   "metadata": {},
   "source": [
    "Later fors can use the results from earlier ones"
   ]
  },
  {
   "cell_type": "code",
   "execution_count": null,
   "metadata": {
    "collapsed": false
   },
   "outputs": [],
   "source": [
    "increasing_pairs = [[x, y]\n",
    "                   for x in range(5)\n",
    "                   for y in range(x+5, 10)]"
   ]
  },
  {
   "cell_type": "markdown",
   "metadata": {},
   "source": [
    "*Can you recreate your list of string lengths using list comprehension?  \n",
    "How about creating a list new list of strings longer than 3 characters?*"
   ]
  },
  {
   "cell_type": "code",
   "execution_count": null,
   "metadata": {
    "collapsed": true
   },
   "outputs": [],
   "source": []
  },
  {
   "cell_type": "markdown",
   "metadata": {},
   "source": [
    "### Enumerate"
   ]
  },
  {
   "cell_type": "code",
   "execution_count": null,
   "metadata": {
    "collapsed": true
   },
   "outputs": [],
   "source": []
  },
  {
   "cell_type": "markdown",
   "metadata": {},
   "source": [
    "### Sorting, Zipping, and Unpacking"
   ]
  },
  {
   "cell_type": "markdown",
   "metadata": {},
   "source": [
    "Python lists can be sorted in two ways, inplace with sort, or to create a new list using sorted"
   ]
  },
  {
   "cell_type": "code",
   "execution_count": null,
   "metadata": {
    "collapsed": true
   },
   "outputs": [],
   "source": [
    "x = [4, 1, 3, 2]\n",
    "y = sorted(x)\n",
    "x.sort()"
   ]
  },
  {
   "cell_type": "markdown",
   "metadata": {},
   "source": [
    "sort and sorted can sort based on user defined criterion, and in reverse order"
   ]
  },
  {
   "cell_type": "code",
   "execution_count": null,
   "metadata": {
    "collapsed": false
   },
   "outputs": [],
   "source": [
    "x = sorted([-4, 1, 3, -2], key=abs, reverse=True)\n",
    "x"
   ]
  },
  {
   "cell_type": "markdown",
   "metadata": {},
   "source": [
    "zip is used to combine two or more lists element wise"
   ]
  },
  {
   "cell_type": "code",
   "execution_count": null,
   "metadata": {
    "collapsed": false
   },
   "outputs": [],
   "source": [
    "list1 = ['a', 'b', 'c']\n",
    "list2 = [1, 2, 3]\n",
    "list(zip(list1, list2))"
   ]
  },
  {
   "cell_type": "markdown",
   "metadata": {},
   "source": [
    "you can also unzip a list of paired elements"
   ]
  },
  {
   "cell_type": "code",
   "execution_count": null,
   "metadata": {
    "collapsed": true
   },
   "outputs": [],
   "source": [
    "pairs = [('a', 1), ('b', 2), ('c', 3)]\n",
    "letters, numbers = zip(*pairs)"
   ]
  },
  {
   "cell_type": "markdown",
   "metadata": {
    "collapsed": true
   },
   "source": [
    "*Use zip to create a dictionary from list1 and list 2 with the letters as keys and the numbers as values.*"
   ]
  },
  {
   "cell_type": "code",
   "execution_count": null,
   "metadata": {
    "collapsed": true
   },
   "outputs": [],
   "source": []
  },
  {
   "cell_type": "markdown",
   "metadata": {
    "collapsed": true
   },
   "source": [
    "## Object Oriented Programming: Classes"
   ]
  },
  {
   "cell_type": "code",
   "execution_count": null,
   "metadata": {
    "collapsed": true
   },
   "outputs": [],
   "source": [
    "class Person:\n",
    "    def __init__(self, name, job=None, pay=0):\n",
    "        self.name = name\n",
    "        self.job = job\n",
    "        self.pay = pay\n",
    "    def lastName(self): # Behavior methods\n",
    "        return self.name.split()[-1] # self is implied subject\n",
    "    def giveRaise(self, percent):\n",
    "        self.pay = int(self.pay * (1 + percent)) # Must change here only\n",
    "    def __repr__(self): # Added method\n",
    "        return '[Person: %s, %s]' % (self.name, self.pay)\n",
    "    \n",
    "class Manager(Person):\n",
    "    def __init__(self, name, pay): # Redefine constructor\n",
    "        Person.__init__(self, name, 'mgr', pay)\n",
    "    def giveRaise(self, percent, bonus=.10): # Redefine at this level\n",
    "        Person.giveRaise(self, percent + bonus) # Call Person's version\n",
    "\n",
    "class Department:\n",
    "    def __init__(self, *args):\n",
    "        self.members = list(args)\n",
    "    def addMember(self, person):\n",
    "        self.members.append(person)\n",
    "    def giveRaises(self, percent):\n",
    "        for person in self.members:\n",
    "            person.giveRaise(percent)\n",
    "    def showAll(self):\n",
    "        for person in self.members:\n",
    "            print(person)\n",
    "\n",
    "if __name__ == '__main__':\n",
    "    bob = Person('Bob Smith')\n",
    "    sue = Person('Sue Jones', job='dev', pay=100000)\n",
    "    tom = Manager('Tom Jones', 50000)\n",
    "    development = Department(bob, sue) # Embed objects in a composite\n",
    "    development.addMember(tom)\n",
    "    development.giveRaises(.10) # Runs embedded objects' giveRaise\n",
    "    development.showAll() # Runs embedded objects' __repr__"
   ]
  },
  {
   "cell_type": "markdown",
   "metadata": {},
   "source": [
    "- Create a class `Student` with the attributes\n",
    "    - `name`\n",
    "    - `uin`\n",
    "    - `gender`\n",
    "    - `major`\n",
    "\n",
    "Create a method to return the `major` of the student.\n",
    "\n",
    "- Now create another class, `Graduate` which inherits from `Student` and add a new attribute `degree`  to this class.  Create a method in `Graduate` to return the `degree` of the student."
   ]
  },
  {
   "cell_type": "code",
   "execution_count": null,
   "metadata": {
    "collapsed": true
   },
   "outputs": [],
   "source": []
  }
 ],
 "metadata": {
  "kernelspec": {
   "display_name": "Python 3",
   "language": "python",
   "name": "python3"
  },
  "language_info": {
   "codemirror_mode": {
    "name": "ipython",
    "version": 3
   },
   "file_extension": ".py",
   "mimetype": "text/x-python",
   "name": "python",
   "nbconvert_exporter": "python",
   "pygments_lexer": "ipython3",
   "version": "3.4.3"
  }
 },
 "nbformat": 4,
 "nbformat_minor": 0
}
